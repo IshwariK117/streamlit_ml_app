{
 "cells": [
  {
   "cell_type": "code",
   "execution_count": 3,
   "id": "4aa02632-9564-441e-8efa-0330bd9932a6",
   "metadata": {},
   "outputs": [
    {
     "name": "stdout",
     "output_type": "stream",
     "text": [
      "Extracted 1974 Python code snippets and saved to python_code_train.csv\n",
      "Extracted 963 Python code snippets and saved to python_code_test.csv\n"
     ]
    }
   ],
   "source": [
    "import json\n",
    "import csv\n",
    "\n",
    "# Function to load and filter Python code entries from the dataset\n",
    "def extract_python_code_to_csv(file_path, output_csv_path):\n",
    "    python_code = []\n",
    "    \n",
    "    # Load the dataset\n",
    "    with open(file_path, 'r') as f:\n",
    "        data = json.load(f)\n",
    "        \n",
    "        # Filter Python code entries\n",
    "        for entry in data:\n",
    "            if entry.get('language') == 'Python':  # Check if the language is Python\n",
    "                python_code.append({\n",
    "                    'problem_id': entry.get('problem_id'),\n",
    "                    'original_src': entry.get('original_src'),\n",
    "                    'changed_src': entry.get('changed_src'),\n",
    "                    'error': entry.get('error'),\n",
    "                    'stderr': entry.get('stderr')\n",
    "                })\n",
    "    \n",
    "    # Write the filtered Python code to a CSV file\n",
    "    with open(output_csv_path, 'w', newline='', encoding='utf-8') as csvfile:\n",
    "        fieldnames = ['problem_id', 'original_src', 'changed_src', 'error', 'stderr']\n",
    "        writer = csv.DictWriter(csvfile, fieldnames=fieldnames)\n",
    "        \n",
    "        # Write the header\n",
    "        writer.writeheader()\n",
    "        \n",
    "        # Write the Python code entries\n",
    "        for entry in python_code:\n",
    "            writer.writerow(entry)\n",
    "\n",
    "    print(f\"Extracted {len(python_code)} Python code snippets and saved to {output_csv_path}\")\n",
    "\n",
    "# Specify the input JSON file and output CSV file paths\n",
    "train_file_path = r'train.json'\n",
    "test_file_path = r'test.json'\n",
    "\n",
    "output_train_csv_path = r'python_code_train.csv'\n",
    "output_test_csv_path = r'python_code_test.csv'\n",
    "\n",
    "# Extract Python code from both train and test datasets and save to CSV\n",
    "extract_python_code_to_csv(train_file_path, output_train_csv_path)\n",
    "extract_python_code_to_csv(test_file_path, output_test_csv_path)\n"
   ]
  },
  {
   "cell_type": "code",
   "execution_count": null,
   "id": "168a2f69-fa71-4483-b153-a6bb9234bf9e",
   "metadata": {},
   "outputs": [],
   "source": []
  }
 ],
 "metadata": {
  "kernelspec": {
   "display_name": "Python 3 (ipykernel)",
   "language": "python",
   "name": "python3"
  },
  "language_info": {
   "codemirror_mode": {
    "name": "ipython",
    "version": 3
   },
   "file_extension": ".py",
   "mimetype": "text/x-python",
   "name": "python",
   "nbconvert_exporter": "python",
   "pygments_lexer": "ipython3",
   "version": "3.12.7"
  }
 },
 "nbformat": 4,
 "nbformat_minor": 5
}
